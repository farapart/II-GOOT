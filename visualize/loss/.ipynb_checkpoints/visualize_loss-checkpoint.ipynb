{
 "cells": [
  {
   "cell_type": "code",
   "execution_count": 1,
   "id": "5bfcc297",
   "metadata": {},
   "outputs": [],
   "source": [
    "import pandas as pd\n",
    "import numpy as np\n",
    "import os\n",
    "import pickle"
   ]
  },
  {
   "cell_type": "code",
   "execution_count": 8,
   "id": "464f602d",
   "metadata": {},
   "outputs": [],
   "source": [
    "dir_name = \"D:\\\\hitsz\\\\Research\\\\trustableAI\\\\fairness\\\\figures\\\\loss\"\n",
    "\n",
    "loss_beauty_fair = pickle.load(open(os.path.join(dir_name, \"loss_beauty_fair.pkl\"), 'rb'))\n",
    "loss_grocery_normal = pickle.load(open(os.path.join(dir_name, \"loss_grocery_normal.pkl\"), 'rb'))\n",
    "loss_grocery_fair = pickle.load(open(os.path.join(dir_name, \"loss_grocery_fair.pkl\"), 'rb'))\n",
    "loss_health_normal = pickle.load(open(os.path.join(dir_name, \"loss_health_normal.pkl\"), 'rb'))\n",
    "loss_health_fair = pickle.load(open(os.path.join(dir_name, \"loss_health_fair.pkl\"), 'rb'))\n",
    "loss_beauty_normal = pickle.load(open(os.path.join(dir_name, \"loss_beauty_normal.pkl\"), 'rb'))"
   ]
  },
  {
   "cell_type": "code",
   "execution_count": 9,
   "id": "0ea03ef9",
   "metadata": {},
   "outputs": [],
   "source": [
    "loss_beauty_fair_inter = [loss_beauty_fair[epoch][2] for epoch in range(100)]\n",
    "loss_beauty_normal_inter = [loss_beauty_normal[epoch][2] for epoch in range(100)]\n",
    "loss_grocery_fair_inter = [loss_grocery_fair[epoch][2] for epoch in range(100)]\n",
    "loss_grocery_normal_inter = [loss_grocery_normal[epoch][2] for epoch in range(100)]\n",
    "loss_health_fair_inter = [loss_health_fair[epoch][2] for epoch in range(100)]\n",
    "loss_health_normal_inter = [loss_health_normal[epoch][2] for epoch in range(100)]"
   ]
  },
  {
   "cell_type": "code",
   "execution_count": 11,
   "id": "fd47efde",
   "metadata": {},
   "outputs": [
    {
     "ename": "ImportError",
     "evalue": "DLL load failed while importing ft2font: 找不到指定的模块。",
     "output_type": "error",
     "traceback": [
      "\u001b[1;31m---------------------------------------------------------------------------\u001b[0m",
      "\u001b[1;31mImportError\u001b[0m                               Traceback (most recent call last)",
      "\u001b[1;32m~\\AppData\\Local\\Temp/ipykernel_16400/2870131861.py\u001b[0m in \u001b[0;36m<module>\u001b[1;34m\u001b[0m\n\u001b[1;32m----> 1\u001b[1;33m \u001b[1;32mimport\u001b[0m \u001b[0mseaborn\u001b[0m \u001b[1;32mas\u001b[0m \u001b[0msns\u001b[0m\u001b[1;33m\u001b[0m\u001b[1;33m\u001b[0m\u001b[0m\n\u001b[0m\u001b[0;32m      2\u001b[0m \u001b[1;32mimport\u001b[0m \u001b[0mmatplotlib\u001b[0m\u001b[1;33m.\u001b[0m\u001b[0mpyplot\u001b[0m \u001b[1;32mas\u001b[0m \u001b[0mplt\u001b[0m\u001b[1;33m\u001b[0m\u001b[1;33m\u001b[0m\u001b[0m\n",
      "\u001b[1;32mD:\\programs\\Anaconda\\lib\\site-packages\\seaborn\\__init__.py\u001b[0m in \u001b[0;36m<module>\u001b[1;34m\u001b[0m\n\u001b[0;32m      1\u001b[0m \u001b[1;31m# Import seaborn objects\u001b[0m\u001b[1;33m\u001b[0m\u001b[1;33m\u001b[0m\u001b[1;33m\u001b[0m\u001b[0m\n\u001b[1;32m----> 2\u001b[1;33m \u001b[1;32mfrom\u001b[0m \u001b[1;33m.\u001b[0m\u001b[0mrcmod\u001b[0m \u001b[1;32mimport\u001b[0m \u001b[1;33m*\u001b[0m  \u001b[1;31m# noqa: F401,F403\u001b[0m\u001b[1;33m\u001b[0m\u001b[1;33m\u001b[0m\u001b[0m\n\u001b[0m\u001b[0;32m      3\u001b[0m \u001b[1;32mfrom\u001b[0m \u001b[1;33m.\u001b[0m\u001b[0mutils\u001b[0m \u001b[1;32mimport\u001b[0m \u001b[1;33m*\u001b[0m  \u001b[1;31m# noqa: F401,F403\u001b[0m\u001b[1;33m\u001b[0m\u001b[1;33m\u001b[0m\u001b[0m\n\u001b[0;32m      4\u001b[0m \u001b[1;32mfrom\u001b[0m \u001b[1;33m.\u001b[0m\u001b[0mpalettes\u001b[0m \u001b[1;32mimport\u001b[0m \u001b[1;33m*\u001b[0m  \u001b[1;31m# noqa: F401,F403\u001b[0m\u001b[1;33m\u001b[0m\u001b[1;33m\u001b[0m\u001b[0m\n\u001b[0;32m      5\u001b[0m \u001b[1;32mfrom\u001b[0m \u001b[1;33m.\u001b[0m\u001b[0mrelational\u001b[0m \u001b[1;32mimport\u001b[0m \u001b[1;33m*\u001b[0m  \u001b[1;31m# noqa: F401,F403\u001b[0m\u001b[1;33m\u001b[0m\u001b[1;33m\u001b[0m\u001b[0m\n",
      "\u001b[1;32mD:\\programs\\Anaconda\\lib\\site-packages\\seaborn\\rcmod.py\u001b[0m in \u001b[0;36m<module>\u001b[1;34m\u001b[0m\n\u001b[0;32m      3\u001b[0m \u001b[1;32mimport\u001b[0m \u001b[0mfunctools\u001b[0m\u001b[1;33m\u001b[0m\u001b[1;33m\u001b[0m\u001b[0m\n\u001b[0;32m      4\u001b[0m \u001b[1;32mfrom\u001b[0m \u001b[0mdistutils\u001b[0m\u001b[1;33m.\u001b[0m\u001b[0mversion\u001b[0m \u001b[1;32mimport\u001b[0m \u001b[0mLooseVersion\u001b[0m\u001b[1;33m\u001b[0m\u001b[1;33m\u001b[0m\u001b[0m\n\u001b[1;32m----> 5\u001b[1;33m \u001b[1;32mimport\u001b[0m \u001b[0mmatplotlib\u001b[0m \u001b[1;32mas\u001b[0m \u001b[0mmpl\u001b[0m\u001b[1;33m\u001b[0m\u001b[1;33m\u001b[0m\u001b[0m\n\u001b[0m\u001b[0;32m      6\u001b[0m \u001b[1;32mfrom\u001b[0m \u001b[0mcycler\u001b[0m \u001b[1;32mimport\u001b[0m \u001b[0mcycler\u001b[0m\u001b[1;33m\u001b[0m\u001b[1;33m\u001b[0m\u001b[0m\n\u001b[0;32m      7\u001b[0m \u001b[1;32mfrom\u001b[0m \u001b[1;33m.\u001b[0m \u001b[1;32mimport\u001b[0m \u001b[0mpalettes\u001b[0m\u001b[1;33m\u001b[0m\u001b[1;33m\u001b[0m\u001b[0m\n",
      "\u001b[1;32mD:\\programs\\Anaconda\\lib\\site-packages\\matplotlib\\__init__.py\u001b[0m in \u001b[0;36m<module>\u001b[1;34m\u001b[0m\n\u001b[0;32m    172\u001b[0m \u001b[1;33m\u001b[0m\u001b[0m\n\u001b[0;32m    173\u001b[0m \u001b[1;33m\u001b[0m\u001b[0m\n\u001b[1;32m--> 174\u001b[1;33m \u001b[0m_check_versions\u001b[0m\u001b[1;33m(\u001b[0m\u001b[1;33m)\u001b[0m\u001b[1;33m\u001b[0m\u001b[1;33m\u001b[0m\u001b[0m\n\u001b[0m\u001b[0;32m    175\u001b[0m \u001b[1;33m\u001b[0m\u001b[0m\n\u001b[0;32m    176\u001b[0m \u001b[1;33m\u001b[0m\u001b[0m\n",
      "\u001b[1;32mD:\\programs\\Anaconda\\lib\\site-packages\\matplotlib\\__init__.py\u001b[0m in \u001b[0;36m_check_versions\u001b[1;34m()\u001b[0m\n\u001b[0;32m    157\u001b[0m     \u001b[1;31m# Quickfix to ensure Microsoft Visual C++ redistributable\u001b[0m\u001b[1;33m\u001b[0m\u001b[1;33m\u001b[0m\u001b[1;33m\u001b[0m\u001b[0m\n\u001b[0;32m    158\u001b[0m     \u001b[1;31m# DLLs are loaded before importing kiwisolver\u001b[0m\u001b[1;33m\u001b[0m\u001b[1;33m\u001b[0m\u001b[1;33m\u001b[0m\u001b[0m\n\u001b[1;32m--> 159\u001b[1;33m     \u001b[1;32mfrom\u001b[0m \u001b[1;33m.\u001b[0m \u001b[1;32mimport\u001b[0m \u001b[0mft2font\u001b[0m\u001b[1;33m\u001b[0m\u001b[1;33m\u001b[0m\u001b[0m\n\u001b[0m\u001b[0;32m    160\u001b[0m \u001b[1;33m\u001b[0m\u001b[0m\n\u001b[0;32m    161\u001b[0m     for modname, minver in [\n",
      "\u001b[1;31mImportError\u001b[0m: DLL load failed while importing ft2font: 找不到指定的模块。"
     ]
    }
   ],
   "source": [
    "import seaborn as sns\n",
    "import matplotlib.pyplot as plt"
   ]
  },
  {
   "cell_type": "code",
   "execution_count": null,
   "id": "0df1ca22",
   "metadata": {},
   "outputs": [],
   "source": [
    "palette_aaai_2024 = [\"#5386e4\",\"#5c946e\",\"#694873\",\"#ff2c55\",\"#ffca3a\"]\n",
    "fig, axes = plt.subplots(nrows=1, ncols=2, figsize=(16, 6), dpi=400)\n",
    "sns.set_style(\"ticks\")\n",
    "\n",
    "legend_font = {\n",
    "    'family': 'Times New Roman',  # 字体\n",
    "    'size': 24,  # 字号,\n",
    "#     'weight': 'bold'\n",
    "}\n",
    "\n",
    "sns.lineplot( data=df_performance, \n",
    "             x='percentage', \n",
    "             y='performance',  \n",
    "             style='mode', \n",
    "             ax=axes[0],\n",
    "             hue='metric',\n",
    "             markers=['d', 'X'],\n",
    "             markersize=12,\n",
    "             palette=palette_aaai_2024)\n",
    "# handles, labels = axes[0].get_legend_handles_labels()\n",
    "# axes[0].legend(handles=handles[1:3] +handles[4:] , labels=labels[1:3]+labels[4:])\n",
    "#             palette=sns.color_palette(\"cubehelix\"))\n",
    "#             palette=palettable.cartocolors.qualitative.Bold_9.mpl_colors[:3]) \n",
    "# sns.move_legend(axes[0], \"upper left\", bbox_to_anchor=(1, 1))\n",
    "# sns.move_legend(axes[0], \"lower left\",  ncol=2, bbox_to_anchor=(0, 1.02, 1, 0.2))\n",
    "# sns.move_legend(axes[0], \"lower right\", ncol=2, prop=legend_font)\n",
    "axes[0].set_title(\"Overall performance\", fontdict={'family' : 'Times New Roman', 'size'   : 32, 'weight': 'bold'})\n",
    "axes[0].set_ylabel('performance', fontdict={'family' : 'Times New Roman', 'size'   : 32, 'weight': 'bold'})\n",
    "axes[0].set_xlabel('Percentage of active users', fontdict={'family' : 'Times New Roman', 'size'   : 32, 'weight': 'bold'})\n",
    "\n",
    "\n",
    "# ratios = list(np.arange(0.05, 0.55, 0.05))\n",
    "# x_ticks = [format(active_ratio, '.2f') for active_ratio in ratios]\n",
    "x_ticks = [0.1, 0.2, 0.3, 0.4, 0.5]\n",
    "ticks = axes[0].set_xticks(list(np.arange(0.1, 0.55, 0.1))) # 设置刻度\n",
    "labels = axes[0].set_xticklabels(x_ticks,size =16, fontproperties = 'Times New Roman',) # 设置刻度标签\n",
    "\n",
    "axes[0].set_ylim((0.2, 0.5))\n",
    "ticks = axes[0].set_yticks(list(np.arange(0.2, 0.55, 0.1))) # 设置刻度\n",
    "y_ticks1 = [0.2, 0.3, 0.4, 0.5]\n",
    "labels = axes[0].set_yticklabels(y_ticks1, fontsize =16, fontproperties = 'Times New Roman',) # 设置刻度标签\n",
    "axes[0].grid()\n",
    "\n",
    "\n",
    "\n",
    "sns.lineplot( data=df_fairness_metric, x='percentage', y='$M_{UOF}$', hue='metric', style='mode', ax=axes[1],\n",
    "             markers=['d', 'X'],\n",
    "             markersize=12,\n",
    "             palette=palette_aaai_2024)\n",
    "#             palette=sns.color_palette(\"cubehelix\"),)\n",
    "\n",
    "handles, labels = axes[1].get_legend_handles_labels()\n",
    "axes[1].legend(handles=handles[1:3] +handles[4:] , labels=labels[1:3]+labels[4:])\n",
    "axes[1].set_title(\"Fairness metric($M_{UOF}$)\", fontdict={'family' : 'Times New Roman', 'size'   : 32, 'weight': 'bold'})\n",
    "axes[1].set_ylabel('$M_{UOF}$', fontdict={'family' : 'Times New Roman', 'size'   : 32, 'weight': 'bold'})\n",
    "axes[1].set_xlabel('Percentage of active users', fontdict={'family' : 'Times New Roman', 'size'   : 32, 'weight': 'bold'})\n",
    "# labels = axes[1].set_xticklabels(x_ticks,fontsize =14, fontproperties = 'Times New Roman',) # 设置刻度标签\n",
    "\n",
    "ticks = axes[1].set_yticks(list(np.arange(0.05, 0.3, 0.05))) # 设置刻度\n",
    "y_ticks2 = [\"0.05\", \"0.10\", \"0.15\", '0.20', '0.25']\n",
    "labels = axes[1].set_yticklabels(y_ticks2, fontsize =32, fontproperties = 'Times New Roman',) # 设置刻度标签\n",
    "\n",
    "x_ticks = [0.1, 0.2, 0.3, 0.4, 0.5]\n",
    "ticks = axes[1].set_xticks(list(np.arange(0.1, 0.55, 0.1))) # 设置刻度\n",
    "labels = axes[1].set_xticklabels(x_ticks,size =16, fontproperties = 'Times New Roman',) # 设置刻度标签\n",
    "axes[1].grid()\n",
    "\n",
    "#\n",
    "# sns.move_legend(axes[1], \"upper left\", bbox_to_anchor=(1, 1))\n",
    "# sns.move_legend(axes[1], \"upper right\", ncol=1, prop=legend_font, bbox_to_anchor=(1.05, 1))\n",
    "# plt.legend(loc='center left', bbox_to_anchor=(1, 0.5), prop=legend_font)\n",
    "# fig.legend(loc=7)\n",
    "# fig.tight_layout()\n",
    "# fig.subplots_adjust(right=0.75)\n",
    "# 调整刻度轴字体大小\n",
    "axes[0].tick_params(axis='x',labelsize=24,) \n",
    "axes[0].tick_params(axis='y',labelsize=24,) \n",
    "axes[1].tick_params(axis='x',labelsize=24,) \n",
    "axes[1].tick_params(axis='y',labelsize=24,) \n",
    "\n",
    "# 统一图例\n",
    "lines, labels = axes[-1].get_legend_handles_labels()\n",
    "lines = lines[1:3] + lines[4:]\n",
    "labels = labels[1:3] + labels[4:]\n",
    "fig.legend(lines, labels, loc = 'lower center', ncol=4, prop=legend_font,bbox_to_anchor=(0.5, -0.15)) # 图例的位置，bbox_to_anchor=(0.5, 0.92),\n",
    "axes[1].get_legend().remove()\n",
    "axes[0].get_legend().remove()\n",
    "# print(handles)\n",
    "# print(labels)\n",
    "\n",
    "\n",
    "plt.tight_layout()"
   ]
  },
  {
   "cell_type": "code",
   "execution_count": null,
   "id": "3176e988",
   "metadata": {},
   "outputs": [],
   "source": []
  },
  {
   "cell_type": "code",
   "execution_count": null,
   "id": "1fd7b772",
   "metadata": {},
   "outputs": [],
   "source": []
  },
  {
   "cell_type": "code",
   "execution_count": null,
   "id": "25370fa3",
   "metadata": {},
   "outputs": [],
   "source": []
  }
 ],
 "metadata": {
  "kernelspec": {
   "display_name": "Python 3",
   "language": "python",
   "name": "python3"
  },
  "language_info": {
   "codemirror_mode": {
    "name": "ipython",
    "version": 3
   },
   "file_extension": ".py",
   "mimetype": "text/x-python",
   "name": "python",
   "nbconvert_exporter": "python",
   "pygments_lexer": "ipython3",
   "version": "3.8.8"
  }
 },
 "nbformat": 4,
 "nbformat_minor": 5
}
